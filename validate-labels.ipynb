{
 "cells": [
  {
   "cell_type": "markdown",
   "metadata": {},
   "source": [
    "# Validate Image & Label Quality"
   ]
  },
  {
   "cell_type": "code",
   "execution_count": null,
   "metadata": {},
   "outputs": [],
   "source": [
    "import numpy as np\n",
    "import matplotlib.pyplot as plt"
   ]
  },
  {
   "cell_type": "code",
   "execution_count": null,
   "metadata": {},
   "outputs": [],
   "source": [
    "data = np.load('data.npz')\n",
    "\n",
    "X_train = data['x_train']\n",
    "X_test = data['x_test']\n",
    "y_train = data['y_train']\n",
    "y_test = data['y_test']"
   ]
  },
  {
   "cell_type": "code",
   "execution_count": null,
   "metadata": {},
   "outputs": [],
   "source": [
    "print(X_train.shape)\n",
    "print(y_train.shape)\n",
    "print(y_train[0,0])"
   ]
  },
  {
   "cell_type": "markdown",
   "metadata": {},
   "source": [
    "  * __X_train__: (# images, 256 x-pixels, 256 y-pixels, 3 colors (rgb))\n",
    "  * __y_train__: (# images, max # objects, # classes)\n",
    "  * __A bounding box__: (y_min, x_min, y_max, x_max, class)"
   ]
  },
  {
   "cell_type": "code",
   "execution_count": null,
   "metadata": {
    "scrolled": true
   },
   "outputs": [],
   "source": [
    "def validate(X, y, start, stop):\n",
    "    '''View images with labels and determine if they should be kept'''\n",
    "    \n",
    "    to_keep = []\n",
    "    if stop > X.shape[0]:\n",
    "        stop = X.shape[0]\n",
    "        \n",
    "    for i in range(start, stop):\n",
    "        # Create empty, transparent layer\n",
    "        box = np.zeros((256, 256, 4), dtype=np.uint8)\n",
    "        for j in range(y.shape[2]):\n",
    "            (x_min, y_min, x_max, y_max, label) = y[i, j]\n",
    "            \n",
    "            ## TODO: alter the breakpoint \n",
    "            if label <= 2:  # Residential\n",
    "                color = 0   # Red\n",
    "            else:           # Commercial/Other\n",
    "                color = 1   # Green\n",
    "                \n",
    "            # Draw a bounding box\n",
    "            box[y_min:y_min+2, x_min:x_max, [color, 3]] = 255 # Left\n",
    "            box[y_max-2:y_max, x_min:x_max, [color, 3]] = 255 # Right\n",
    "            box[y_min:y_max, x_min:x_min+2, [color, 3]] = 255 # Top\n",
    "            box[y_min:y_max, x_max-2:x_max, [color, 3]] = 255 # Bottom\n",
    "\n",
    "        # Display image with labels\n",
    "        image = plt.imshow(X[i])\n",
    "        labels = plt.imshow(box)\n",
    "        plt.show()\n",
    "\n",
    "        # Prompt user to keep observation or delete\n",
    "        # 'y' to keep, anything else to pass\n",
    "        keep = input(\" 'y' to keep\").strip()\n",
    "        if keep == 'y':\n",
    "            to_keep.append(i)\n",
    "            \n",
    "    # Filter selected images\n",
    "    X = X[to_keep]\n",
    "    y = y[to_keep]\n",
    "    \n",
    "    return (X, y)"
   ]
  },
  {
   "cell_type": "code",
   "execution_count": null,
   "metadata": {},
   "outputs": [],
   "source": [
    "(X_train, y_train) = validate(X_train, y_train, 0, X_train.shape[0])"
   ]
  },
  {
   "cell_type": "code",
   "execution_count": null,
   "metadata": {
    "scrolled": true
   },
   "outputs": [],
   "source": [
    "(X_test, y_test) = validate(X_test, y_test, 0, X_test.shape[0])"
   ]
  },
  {
   "cell_type": "code",
   "execution_count": null,
   "metadata": {},
   "outputs": [],
   "source": [
    "np.savez('validated_data.npz',\n",
    "        x_train=X_train,\n",
    "        y_train=y_train,\n",
    "        x_test=X_test,\n",
    "        y_test=y_test)"
   ]
  }
 ],
 "metadata": {
  "kernelspec": {
   "display_name": "Python 3",
   "language": "python",
   "name": "python3"
  },
  "language_info": {
   "codemirror_mode": {
    "name": "ipython",
    "version": 3
   },
   "file_extension": ".py",
   "mimetype": "text/x-python",
   "name": "python",
   "nbconvert_exporter": "python",
   "pygments_lexer": "ipython3",
   "version": "3.6.5"
  }
 },
 "nbformat": 4,
 "nbformat_minor": 2
}
